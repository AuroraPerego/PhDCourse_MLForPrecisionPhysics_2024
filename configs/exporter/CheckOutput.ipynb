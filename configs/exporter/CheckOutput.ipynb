{
 "cells": [
  {
   "cell_type": "code",
   "execution_count": 2,
   "id": "0b4798a1-69d9-420f-a9a8-cb8b37d7acd6",
   "metadata": {},
   "outputs": [],
   "source": [
    "from coffea.util import load"
   ]
  },
  {
   "cell_type": "code",
   "execution_count": 35,
   "id": "0ddbce6f-2427-4593-8a0c-5bb79d5e52fc",
   "metadata": {},
   "outputs": [],
   "source": [
    "df = load(\"out_v8/output_all.coffea\")"
   ]
  },
  {
   "cell_type": "code",
   "execution_count": 36,
   "id": "63148535-408b-4664-a2cf-6388c229ac48",
   "metadata": {},
   "outputs": [
    {
     "data": {
      "text/plain": [
       "{'initial': {'SSWW_2018': 3783070},\n",
       " 'skim': {'SSWW_2018': 1659938},\n",
       " 'presel': {'SSWW_2018': 601554},\n",
       " 'minimal': {'SSWW_2018': {'SSWW': 486353}}}"
      ]
     },
     "execution_count": 36,
     "metadata": {},
     "output_type": "execute_result"
    }
   ],
   "source": [
    "df[\"cutflow\"]"
   ]
  },
  {
   "cell_type": "code",
   "execution_count": 38,
   "id": "be105933-9533-4ff4-950d-9050192acd45",
   "metadata": {},
   "outputs": [
    {
     "data": {
      "text/plain": [
       "{'sum_genweights': {'SSWW_2018': 3783070.0},\n",
       " 'sum_signOf_genweights': {'SSWW_2018': 3783070.0},\n",
       " 'sumw': {'minimal': {'SSWW_2018': {'SSWW': 2640.6117065399962}}},\n",
       " 'sumw2': {'minimal': {'SSWW_2018': {'SSWW': 14.393272187581335}}},\n",
       " 'cutflow': {'initial': {'SSWW_2018': 3783070},\n",
       "  'skim': {'SSWW_2018': 1659938},\n",
       "  'presel': {'SSWW_2018': 601554},\n",
       "  'minimal': {'SSWW_2018': {'SSWW': 486353}}},\n",
       " 'variables': {'nJets': defaultdict(dict,\n",
       "              {'SSWW': {'SSWW_2018': Hist(\n",
       "                  StrCategory(['minimal'], name='cat', label='Category'),\n",
       "                  StrCategory(['nominal'], name='variation', label='Variation'),\n",
       "                  Regular(8, 2, 10, name='events.nJetGood', label='$N_{JetGood}$'),\n",
       "                  storage=Weight()) # Sum: WeightedSum(value=2640.19, variance=14.391) (WeightedSum(value=2640.61, variance=14.3933) with flow)}}),\n",
       "  'nLeptons': defaultdict(dict,\n",
       "              {'SSWW': {'SSWW_2018': Hist(\n",
       "                  StrCategory(['minimal'], name='cat', label='Category'),\n",
       "                  StrCategory(['nominal'], name='variation', label='Variation'),\n",
       "                  Regular(4, 1, 5, name='events.nLeptonGood', label='$N_{LeptonGood}$'),\n",
       "                  storage=Weight()) # Sum: WeightedSum(value=2640.61, variance=14.3933)}}),\n",
       "  'vbs_jet_pt0': defaultdict(dict,\n",
       "              {'SSWW': {'SSWW_2018': Hist(\n",
       "                  StrCategory(['minimal'], name='cat', label='Category'),\n",
       "                  StrCategory(['nominal'], name='variation', label='Variation'),\n",
       "                  Regular(70, 20, 3000, name='VBSJets.pt', label='$p_{T}^{VBS-jet0}$ [GeV]'),\n",
       "                  storage=Weight()) # Sum: WeightedSum(value=2638.41, variance=14.3813) (WeightedSum(value=2640.61, variance=14.3933) with flow)}}),\n",
       "  'vbs_jet_eta0': defaultdict(dict,\n",
       "              {'SSWW': {'SSWW_2018': Hist(\n",
       "                  StrCategory(['minimal'], name='cat', label='Category'),\n",
       "                  StrCategory(['nominal'], name='variation', label='Variation'),\n",
       "                  Regular(50, -5, 5, name='VBSJets.eta', label='$\\\\eta^{VBS-jet0}$'),\n",
       "                  storage=Weight()) # Sum: WeightedSum(value=2640.61, variance=14.3933)}}),\n",
       "  'vbs_jet_pt1': defaultdict(dict,\n",
       "              {'SSWW': {'SSWW_2018': Hist(\n",
       "                  StrCategory(['minimal'], name='cat', label='Category'),\n",
       "                  StrCategory(['nominal'], name='variation', label='Variation'),\n",
       "                  Regular(70, 20, 2000, name='VBSJets.pt', label='$p_{T}^{VBS-jet1}$ [GeV]'),\n",
       "                  storage=Weight()) # Sum: WeightedSum(value=2621.92, variance=14.2912) (WeightedSum(value=2640.61, variance=14.3933) with flow)}}),\n",
       "  'vbs_jet_eta1': defaultdict(dict,\n",
       "              {'SSWW': {'SSWW_2018': Hist(\n",
       "                  StrCategory(['minimal'], name='cat', label='Category'),\n",
       "                  StrCategory(['nominal'], name='variation', label='Variation'),\n",
       "                  Regular(50, -5, 5, name='VBSJets.eta', label='$\\\\eta^{VBS-jet1}$'),\n",
       "                  storage=Weight()) # Sum: WeightedSum(value=2640.61, variance=14.3933)}}),\n",
       "  'leading_lepton_pt': defaultdict(dict,\n",
       "              {'SSWW': {'SSWW_2018': Hist(\n",
       "                  StrCategory(['minimal'], name='cat', label='Category'),\n",
       "                  StrCategory(['nominal'], name='variation', label='Variation'),\n",
       "                  Regular(70, 0, 1000, name='LeptonGood.pt', label='$p_{T}^{leading lepton}$ [GeV]'),\n",
       "                  storage=Weight()) # Sum: WeightedSum(value=2598.13, variance=14.1615) (WeightedSum(value=2640.61, variance=14.3933) with flow)}}),\n",
       "  'leading_lepton_eta': defaultdict(dict,\n",
       "              {'SSWW': {'SSWW_2018': Hist(\n",
       "                  StrCategory(['minimal'], name='cat', label='Category'),\n",
       "                  StrCategory(['nominal'], name='variation', label='Variation'),\n",
       "                  Regular(50, -3, 3, name='LeptonGood.eta', label='$\\\\eta^{leading lepton}$'),\n",
       "                  storage=Weight()) # Sum: WeightedSum(value=2640.61, variance=14.3933)}}),\n",
       "  'subleading_lepton_pt': defaultdict(dict,\n",
       "              {'SSWW': {'SSWW_2018': Hist(\n",
       "                  StrCategory(['minimal'], name='cat', label='Category'),\n",
       "                  StrCategory(['nominal'], name='variation', label='Variation'),\n",
       "                  Regular(50, 0, 400, name='LeptonGood.pt', label='$p_{T}^{subleading lepton}$ [GeV]'),\n",
       "                  storage=Weight()) # Sum: WeightedSum(value=2601.39, variance=14.1794) (WeightedSum(value=2640.61, variance=14.3933) with flow)}}),\n",
       "  'subleading_lepton_eta': defaultdict(dict,\n",
       "              {'SSWW': {'SSWW_2018': Hist(\n",
       "                  StrCategory(['minimal'], name='cat', label='Category'),\n",
       "                  StrCategory(['nominal'], name='variation', label='Variation'),\n",
       "                  Regular(50, -3, 3, name='LeptonGood.eta', label='$\\\\eta^{subleading lepton}$'),\n",
       "                  storage=Weight()) # Sum: WeightedSum(value=2640.61, variance=14.3933)}}),\n",
       "  'mjj_vbs': defaultdict(dict,\n",
       "              {'SSWW': {'SSWW_2018': Hist(\n",
       "                  StrCategory(['minimal'], name='cat', label='Category'),\n",
       "                  StrCategory(['nominal'], name='variation', label='Variation'),\n",
       "                  Regular(60, 0, 5000, name='events.mjj_vbs', label='$m_{jj}^{VBS}$ [GeV]'),\n",
       "                  storage=Weight()) # Sum: WeightedSum(value=2603.44, variance=14.1906) (WeightedSum(value=2640.61, variance=14.3933) with flow)}}),\n",
       "  'deltaeta_vbs': defaultdict(dict,\n",
       "              {'SSWW': {'SSWW_2018': Hist(\n",
       "                  StrCategory(['minimal'], name='cat', label='Category'),\n",
       "                  StrCategory(['nominal'], name='variation', label='Variation'),\n",
       "                  Regular(60, 0, 10, name='events.deltaeta_vbs', label='$\\\\Delta\\\\eta_{jj}^{VBS}$'),\n",
       "                  storage=Weight()) # Sum: WeightedSum(value=2640.61, variance=14.3933)}}),\n",
       "  'mll': defaultdict(dict,\n",
       "              {'SSWW': {'SSWW_2018': Hist(\n",
       "                  StrCategory(['minimal'], name='cat', label='Category'),\n",
       "                  StrCategory(['nominal'], name='variation', label='Variation'),\n",
       "                  Regular(70, 0, 700, name='events.mll', label='$m_{\\\\ell\\\\ell}$ [GeV]'),\n",
       "                  storage=Weight()) # Sum: WeightedSum(value=2458.23, variance=13.3987) (WeightedSum(value=2640.61, variance=14.3933) with flow)}}),\n",
       "  'PuppiMET': defaultdict(dict,\n",
       "              {'SSWW': {'SSWW_2018': Hist(\n",
       "                  StrCategory(['minimal'], name='cat', label='Category'),\n",
       "                  StrCategory(['nominal'], name='variation', label='Variation'),\n",
       "                  Regular(80, 0, 1200, name='PuppiMET.pt', label='$p_{T}^{miss}$ [GeV]'),\n",
       "                  storage=Weight()) # Sum: WeightedSum(value=2604.35, variance=14.1954) (WeightedSum(value=2640.61, variance=14.3933) with flow)}}),\n",
       "  'Zeppl1_vbs': defaultdict(dict,\n",
       "              {'SSWW': {'SSWW_2018': Hist(\n",
       "                  StrCategory(['minimal'], name='cat', label='Category'),\n",
       "                  StrCategory(['nominal'], name='variation', label='Variation'),\n",
       "                  Regular(60, 0, 3, name='events.Zeppl1_vbs', label='$Zeppl1_{VBS}$'),\n",
       "                  storage=Weight()) # Sum: WeightedSum(value=2640.61, variance=14.3933)}}),\n",
       "  'Zeppl2_vbs': defaultdict(dict,\n",
       "              {'SSWW': {'SSWW_2018': Hist(\n",
       "                  StrCategory(['minimal'], name='cat', label='Category'),\n",
       "                  StrCategory(['nominal'], name='variation', label='Variation'),\n",
       "                  Regular(60, 0, 3, name='events.Zeppl2_vbs', label='$Zeppl2_{VBS}$'),\n",
       "                  storage=Weight()) # Sum: WeightedSum(value=2640.61, variance=14.3933)}})},\n",
       " 'columns': {},\n",
       " 'processing_metadata': {},\n",
       " 'datasets_metadata': {'by_datataking_period': {'2018': defaultdict(set,\n",
       "               {'SSWW': {'SSWW_2018'}})},\n",
       "  'by_dataset': defaultdict(dict,\n",
       "              {'SSWW_2018': {'das_names': \"['']\",\n",
       "                'sample': 'SSWW',\n",
       "                'year': '2018',\n",
       "                'isMC': 'True',\n",
       "                'xsec': '0.3435',\n",
       "                'nevents': '3700000',\n",
       "                'size': 'x'}})}}"
      ]
     },
     "execution_count": 38,
     "metadata": {},
     "output_type": "execute_result"
    }
   ],
   "source": [
    "df"
   ]
  },
  {
   "cell_type": "code",
   "execution_count": null,
   "id": "84264747-86cd-41d1-b554-e45288c34f59",
   "metadata": {},
   "outputs": [],
   "source": []
  }
 ],
 "metadata": {
  "kernelspec": {
   "display_name": "Python 3",
   "language": "python",
   "name": "python3"
  },
  "language_info": {
   "codemirror_mode": {
    "name": "ipython",
    "version": 3
   },
   "file_extension": ".py",
   "mimetype": "text/x-python",
   "name": "python",
   "nbconvert_exporter": "python",
   "pygments_lexer": "ipython3",
   "version": "3.9.12"
  }
 },
 "nbformat": 4,
 "nbformat_minor": 5
}
