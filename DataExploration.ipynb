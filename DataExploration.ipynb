{
 "cells": [
  {
   "cell_type": "code",
   "execution_count": 1,
   "id": "03eb1ffb-ec07-4e73-b3d8-f4312ddc45b0",
   "metadata": {},
   "outputs": [],
   "source": [
    "from coffea.nanoevents import NanoEventsFactory, NanoAODSchema\n",
    "import awkward as ak\n",
    "import numpy as np\n",
    "import matplotlib.pyplot as plt\n",
    "import hist\n",
    "import vector\n",
    "import numba"
   ]
  },
  {
   "cell_type": "code",
   "execution_count": 2,
   "id": "98097f85-22a4-45c9-8642-8406ed565857",
   "metadata": {},
   "outputs": [],
   "source": [
    "events = NanoEventsFactory.from_root(\"root://eosuser.cern.ch://eos/user/d/dvalsecc/EFT_PhD_Course/samples/SSWW_EFT_1.root\", schemaclass=NanoAODSchema).events()"
   ]
  },
  {
   "cell_type": "code",
   "execution_count": 3,
   "id": "4b7b89d1-5873-46ff-afb8-3f8682416b5d",
   "metadata": {},
   "outputs": [
    {
     "data": {
      "text/plain": [
       "<NanoEventsArray [<event 1:1:1>, ... <event 1:1:375>] type='373663 * event'>"
      ]
     },
     "execution_count": 3,
     "metadata": {},
     "output_type": "execute_result"
    }
   ],
   "source": [
    "events"
   ]
  },
  {
   "cell_type": "code",
   "execution_count": 8,
   "id": "acce1137-17f6-4fb8-a415-c4e49203ca07",
   "metadata": {},
   "outputs": [
    {
     "data": {
      "text/plain": [
       "[[2, 2, -11, 12, -13, 14, 1, 1],\n",
       " [-1, 2, -11, 12, -13, 14, 1, -2],\n",
       " [2, -1, -11, 12, -15, 16, 1, -2],\n",
       " [2, 2, -13, 14, -13, 14, 1, 1],\n",
       " [2, 2, -11, 12, -13, 14, 1, 1],\n",
       " [2, 2, -13, 14, -15, 16, 1, 1],\n",
       " [2, 2, -11, 12, -15, 16, 1, 1],\n",
       " [2, 2, -11, 12, -15, 16, 1, 1],\n",
       " [2, 2, -11, 12, -11, 12, 1, 1],\n",
       " [-2, 1, 13, -14, 15, -16, 2, -1]]"
      ]
     },
     "execution_count": 8,
     "metadata": {},
     "output_type": "execute_result"
    }
   ],
   "source": [
    "events.LHEPart.pdgId[0:10].tolist()"
   ]
  },
  {
   "cell_type": "code",
   "execution_count": 3,
   "id": "023644f2-b770-49ed-ba08-8d10c527bdca",
   "metadata": {},
   "outputs": [
    {
     "data": {
      "text/plain": [
       "(array([     0.,      0.,      0.,      0.,      0., 373663.,      0.,\n",
       "             0.,      0.,      0.]),\n",
       " array([7.5, 7.6, 7.7, 7.8, 7.9, 8. , 8.1, 8.2, 8.3, 8.4, 8.5]),\n",
       " <BarContainer object of 10 artists>)"
      ]
     },
     "execution_count": 3,
     "metadata": {},
     "output_type": "execute_result"
    },
    {
     "data": {
      "image/png": "[encoded data removed]",
      "text/plain": [
       "<Figure size 432x288 with 1 Axes>"
      ]
     },
     "metadata": {
      "needs_background": "light"
     },
     "output_type": "display_data"
    }
   ],
   "source": [
    "plt.hist(ak.num(events.LHEPart, axis=1))"
   ]
  },
  {
   "cell_type": "code",
   "execution_count": 4,
   "id": "528de0d5-85e0-4af8-9269-7895c5ced9cd",
   "metadata": {},
   "outputs": [],
   "source": [
    "W1 = events.LHEPart[:, 2] + events.LHEPart[:, 3]\n",
    "W2 = events.LHEPart[:, 4] + events.LHEPart[:, 5]"
   ]
  },
  {
   "cell_type": "code",
   "execution_count": 5,
   "id": "7a3649fb-9629-46ea-8125-404ca4512c59",
   "metadata": {},
   "outputs": [
    {
     "data": {
      "image/png": "[encoded data removed]",
      "text/plain": [
       "<Figure size 432x288 with 1 Axes>"
      ]
     },
     "metadata": {
      "needs_background": "light"
     },
     "output_type": "display_data"
    }
   ],
   "source": [
    "plt.hist(W1.mass, bins=50, range=(0, 600), histtype=\"step\");\n",
    "plt.hist(W2.mass, bins=50, range=(0, 600), histtype=\"step\");\n",
    "\n",
    "plt.yscale(\"log\")"
   ]
  },
  {
   "cell_type": "code",
   "execution_count": 21,
   "id": "1c703737-32a4-41a3-aa8f-0cb21ce7a9b9",
   "metadata": {},
   "outputs": [
    {
     "data": {
      "text/plain": [
       "<Array [1.48, 0.805, -1.69, ... 1.55, 1.41] type='373663 * float32[parameters={\"...'>"
      ]
     },
     "execution_count": 21,
     "metadata": {},
     "output_type": "execute_result"
    }
   ],
   "source": [
    "events.PuppiMET.phi"
   ]
  },
  {
   "cell_type": "code",
   "execution_count": 28,
   "id": "4d517081-3b88-4f2b-8c2e-bdd4e7d43bab",
   "metadata": {},
   "outputs": [],
   "source": [
    "num_jets = ak.sum(events.Jet.pt > 30, axis=1)"
   ]
  },
  {
   "cell_type": "code",
   "execution_count": 29,
   "id": "3b6ad4c7-697b-45c1-895e-b9c66107f921",
   "metadata": {},
   "outputs": [
    {
     "data": {
      "text/plain": [
       "(array([6.5000e+01, 1.6670e+03, 7.5510e+03, 2.3394e+04, 5.5720e+03,\n",
       "        2.5190e+03, 1.1330e+03, 7.4000e+01, 2.0000e+01, 5.0000e+00]),\n",
       " array([ 0. ,  1.3,  2.6,  3.9,  5.2,  6.5,  7.8,  9.1, 10.4, 11.7, 13. ]),\n",
       " <BarContainer object of 10 artists>)"
      ]
     },
     "execution_count": 29,
     "metadata": {},
     "output_type": "execute_result"
    },
    {
     "data": {
      "image/png": "[encoded data removed]",
      "text/plain": [
       "<Figure size 432x288 with 1 Axes>"
      ]
     },
     "metadata": {
      "needs_background": "light"
     },
     "output_type": "display_data"
    }
   ],
   "source": [
    "plt.hist(num_jets)"
   ]
  },
  {
   "cell_type": "code",
   "execution_count": 4,
   "id": "e65e0684-b99f-4225-b5b1-c216c3e8f3a2",
   "metadata": {},
   "outputs": [],
   "source": [
    "def delta_eta(obj1, obj2):\n",
    "    return abs(obj1.eta - obj2.eta)\n",
    "\n",
    "def mjj(obj1, obj2):\n",
    "    return (obj1 + obj2).mass"
   ]
  },
  {
   "cell_type": "code",
   "execution_count": 5,
   "id": "cb8e5842-cac2-4a11-9c8c-a51b48015247",
   "metadata": {},
   "outputs": [
    {
     "name": "stderr",
     "output_type": "stream",
     "text": [
      "/cvmfs/sft.cern.ch/lcg/views/LCG_105a_swan/x86_64-el9-gcc13-opt/lib/python3.9/site-packages/awkward/_connect/_numpy.py:195: RuntimeWarning: invalid value encountered in sqrt\n",
      "  result = getattr(ufunc, method)(\n"
     ]
    }
   ],
   "source": [
    "deltaEta = events.Jet.metric_table(events.Jet, metric=delta_eta)\n",
    "Mjj = events.Jet.metric_table(events.Jet, metric=mjj)"
   ]
  },
  {
   "cell_type": "code",
   "execution_count": 25,
   "id": "60e06c72-f3fa-42d1-bfa3-5155a158d363",
   "metadata": {},
   "outputs": [],
   "source": [
    "@numba.njit\n",
    "def get_max_mjj(njets, mjjs):\n",
    "    out = -1 * np.ones((len(njets), 2))\n",
    "    mjj_best = np.ones(len(njets))\n",
    "    for iev in range(len(njets)):\n",
    "        max_mjj = -1.\n",
    "        best_1 = -1\n",
    "        best_2 = -2\n",
    "        for i in range(njets[iev]-1):\n",
    "            for j in range(i+1, njets[iev]):\n",
    "                #print(i, j, mjjs[iev][i][j])\n",
    "                if mjjs[iev][i][j] > max_mjj:\n",
    "                    best_1 = i\n",
    "                    best_2 = j\n",
    "                    max_mjj =  mjjs[iev][i][j]\n",
    "        out[iev][0] = best_1\n",
    "        out[iev][1] = best_2\n",
    "        mjj_best[iev] = max_mjj\n",
    "    return out, mjj_best"
   ]
  },
  {
   "cell_type": "code",
   "execution_count": 22,
   "id": "7f93178c-a474-45eb-904d-ce769fa72443",
   "metadata": {},
   "outputs": [
    {
     "name": "stdout",
     "output_type": "stream",
     "text": [
      "74.6 ms ± 3.75 ms per loop (mean ± std. dev. of 7 runs, 10 loops each)\n"
     ]
    }
   ],
   "source": [
    "%%timeit\n",
    "get_max_mjj(ak.num(events.Jet, axis=1),  Mjj)"
   ]
  },
  {
   "cell_type": "code",
   "execution_count": 93,
   "id": "9dd3c1bf-f0f7-4368-ae63-1ee90c07f87c",
   "metadata": {},
   "outputs": [],
   "source": [
    "largest_mjj_idx, largest_mjj = get_max_mjj(ak.num(events.Jet, axis=1),  Mjj)"
   ]
  },
  {
   "cell_type": "code",
   "execution_count": 29,
   "id": "8019198f-def7-4c2a-b42c-d6f05e341fd1",
   "metadata": {},
   "outputs": [
    {
     "data": {
      "text/plain": [
       "(array([2.4920e+03, 1.5836e+04, 3.1690e+04, 4.2373e+04, 4.6052e+04,\n",
       "        4.4904e+04, 4.0489e+04, 3.4637e+04, 2.8473e+04, 2.2519e+04,\n",
       "        1.7723e+04, 1.3499e+04, 9.9020e+03, 7.2430e+03, 5.2660e+03,\n",
       "        3.5540e+03, 2.3940e+03, 1.6510e+03, 1.1450e+03, 6.6000e+02,\n",
       "        4.6300e+02, 2.6900e+02, 1.7700e+02, 1.0100e+02, 5.3000e+01,\n",
       "        3.3000e+01, 3.0000e+01, 2.0000e+01, 3.0000e+00, 6.0000e+00,\n",
       "        3.0000e+00, 1.0000e+00, 0.0000e+00, 0.0000e+00, 1.0000e+00,\n",
       "        0.0000e+00, 0.0000e+00, 0.0000e+00, 0.0000e+00, 0.0000e+00,\n",
       "        0.0000e+00, 0.0000e+00, 0.0000e+00, 0.0000e+00, 0.0000e+00,\n",
       "        0.0000e+00, 0.0000e+00, 0.0000e+00, 0.0000e+00, 1.0000e+00]),\n",
       " array([-1.00000000e+00,  2.96791309e+02,  5.94582617e+02,  8.92373926e+02,\n",
       "         1.19016523e+03,  1.48795654e+03,  1.78574785e+03,  2.08353916e+03,\n",
       "         2.38133047e+03,  2.67912178e+03,  2.97691309e+03,  3.27470439e+03,\n",
       "         3.57249570e+03,  3.87028701e+03,  4.16807832e+03,  4.46586963e+03,\n",
       "         4.76366094e+03,  5.06145225e+03,  5.35924355e+03,  5.65703486e+03,\n",
       "         5.95482617e+03,  6.25261748e+03,  6.55040879e+03,  6.84820010e+03,\n",
       "         7.14599141e+03,  7.44378271e+03,  7.74157402e+03,  8.03936533e+03,\n",
       "         8.33715664e+03,  8.63494795e+03,  8.93273926e+03,  9.23053057e+03,\n",
       "         9.52832187e+03,  9.82611318e+03,  1.01239045e+04,  1.04216958e+04,\n",
       "         1.07194871e+04,  1.10172784e+04,  1.13150697e+04,  1.16128610e+04,\n",
       "         1.19106523e+04,  1.22084437e+04,  1.25062350e+04,  1.28040263e+04,\n",
       "         1.31018176e+04,  1.33996089e+04,  1.36974002e+04,  1.39951915e+04,\n",
       "         1.42929828e+04,  1.45907741e+04,  1.48885654e+04]),\n",
       " <BarContainer object of 50 artists>)"
      ]
     },
     "execution_count": 29,
     "metadata": {},
     "output_type": "execute_result"
    },
    {
     "data": {
      "image/png": "[encoded data removed]",
      "text/plain": [
       "<Figure size 432x288 with 1 Axes>"
      ]
     },
     "metadata": {
      "needs_background": "light"
     },
     "output_type": "display_data"
    }
   ],
   "source": [
    "plt.hist(largest_mjj, bins=50)"
   ]
  },
  {
   "cell_type": "code",
   "execution_count": 32,
   "id": "4373f316-e6fb-44ea-a50a-f71ff7da868a",
   "metadata": {},
   "outputs": [
    {
     "data": {
      "text/plain": [
       "array([0., 2., 0., ..., 0., 0., 1.])"
      ]
     },
     "execution_count": 32,
     "metadata": {},
     "output_type": "execute_result"
    }
   ],
   "source": [
    "largest_mjj_idx[:,0]"
   ]
  },
  {
   "cell_type": "code",
   "execution_count": 53,
   "id": "a3266212-353b-4749-ab54-fb95f89c6067",
   "metadata": {},
   "outputs": [
    {
     "data": {
      "text/plain": [
       "<Array [[[-1.93, 0.42, ... -2.91, 4.94]]] type='373663 * 1 * var * float32[param...'>"
      ]
     },
     "execution_count": 53,
     "metadata": {},
     "output_type": "execute_result"
    }
   ],
   "source": [
    "events.Jet.eta[ak.Array(largest_mjj_idx[:,0][:,None])]"
   ]
  },
  {
   "cell_type": "code",
   "execution_count": 61,
   "id": "123e0d81-38ed-43cc-9626-3566797bcbed",
   "metadata": {},
   "outputs": [],
   "source": [
    "idx_pairs_sorted = ak.argsort(Mjj, axis=1)"
   ]
  },
  {
   "cell_type": "code",
   "execution_count": 92,
   "id": "fc1e25cd-cf71-4dc6-bfb8-771ea96333ce",
   "metadata": {},
   "outputs": [],
   "source": [
    "loc_idk = ak.local_index(events.Jet.eta)"
   ]
  },
  {
   "cell_type": "code",
   "execution_count": 116,
   "id": "8beabfbc-20b3-4e17-a4c4-6e4ca96648a1",
   "metadata": {},
   "outputs": [],
   "source": [
    "mask = (loc_idk == largest_mjj_idx[:,0]) | (loc_idk == largest_mjj_idx[:,1]) "
   ]
  },
  {
   "cell_type": "code",
   "execution_count": 117,
   "id": "870a2f63-ce73-407e-b1bf-3650cf4fac81",
   "metadata": {},
   "outputs": [
    {
     "data": {
      "text/plain": [
       "[True, True, False, False, False, False, False]"
      ]
     },
     "execution_count": 117,
     "metadata": {},
     "output_type": "execute_result"
    }
   ],
   "source": [
    "mask[2].tolist()"
   ]
  },
  {
   "cell_type": "code",
   "execution_count": 120,
   "id": "74639673-e86e-4d1c-bf40-145d039c65d5",
   "metadata": {},
   "outputs": [
    {
     "data": {
      "text/plain": [
       "[[-1.927490234375, 2.67236328125],\n",
       " [-2.84375, 4.94140625],\n",
       " [0.27813720703125, -0.006920814514160156],\n",
       " [0.9996337890625, -0.254150390625],\n",
       " [-0.9144287109375, 1.81103515625],\n",
       " [-0.1553955078125, -0.50244140625],\n",
       " [-1.20556640625, 0.2705078125],\n",
       " [-0.513427734375, -1.01123046875],\n",
       " [-0.31689453125, 0.204010009765625],\n",
       " [-1.049072265625, 3.1982421875]]"
      ]
     },
     "execution_count": 120,
     "metadata": {},
     "output_type": "execute_result"
    }
   ],
   "source": [
    "events.Jet.eta[mask][0:10].tolist()"
   ]
  },
  {
   "cell_type": "code",
   "execution_count": 121,
   "id": "6860c87b-02dd-45e7-88de-1b00ab97226a",
   "metadata": {},
   "outputs": [
    {
     "data": {
      "text/plain": [
       "\u001b[0;31mSignature:\u001b[0m \u001b[0mak\u001b[0m\u001b[0;34m.\u001b[0m\u001b[0mmax\u001b[0m\u001b[0;34m(\u001b[0m\u001b[0marray\u001b[0m\u001b[0;34m,\u001b[0m \u001b[0maxis\u001b[0m\u001b[0;34m=\u001b[0m\u001b[0;32mNone\u001b[0m\u001b[0;34m,\u001b[0m \u001b[0mkeepdims\u001b[0m\u001b[0;34m=\u001b[0m\u001b[0;32mFalse\u001b[0m\u001b[0;34m,\u001b[0m \u001b[0minitial\u001b[0m\u001b[0;34m=\u001b[0m\u001b[0;32mNone\u001b[0m\u001b[0;34m,\u001b[0m \u001b[0mmask_identity\u001b[0m\u001b[0;34m=\u001b[0m\u001b[0;32mTrue\u001b[0m\u001b[0;34m)\u001b[0m\u001b[0;34m\u001b[0m\u001b[0;34m\u001b[0m\u001b[0m\n",
       "\u001b[0;31mDocstring:\u001b[0m\n",
       "Args:\n",
       "    array: Data to maximize.\n",
       "    axis (None or int): If None, combine all values from the array into\n",
       "        a single scalar result; if an int, group by that axis: `0` is the\n",
       "        outermost, `1` is the first level of nested lists, etc., and\n",
       "        negative `axis` counts from the innermost: `-1` is the innermost,\n",
       "        `-2` is the next level up, etc.\n",
       "    keepdims (bool): If False, this reducer decreases the number of\n",
       "        dimensions by 1; if True, the reduced values are wrapped in a new\n",
       "        length-1 dimension so that the result of this operation may be\n",
       "        broadcasted with the original array.\n",
       "    initial (None or number): The minimum value of an output element, as\n",
       "        an alternative to the numeric type's natural identity (e.g. negative\n",
       "        infinity for floating-point types, a minimum integer for integer types).\n",
       "        If you use `initial`, you might also want `mask_identity=False`.\n",
       "    mask_identity (bool): If True, reducing over empty lists results in\n",
       "        None (an option type); otherwise, reducing over empty lists\n",
       "        results in the operation's identity.\n",
       "\n",
       "Returns the maximum value in each group of elements from `array` (many\n",
       "types supported, including all Awkward Arrays and Records). The identity\n",
       "of maximization is `-inf` if floating-point or the smallest integer value\n",
       "if applied to integers. This identity is usually masked: the maximum of\n",
       "an empty list is None, unless `mask_identity=False`.\n",
       "This operation is the same as NumPy's\n",
       "[amax](https://docs.scipy.org/doc/numpy/reference/generated/numpy.amax.html)\n",
       "if all lists at a given dimension have the same length and no None values,\n",
       "but it generalizes to cases where they do not.\n",
       "\n",
       "See #ak.sum for a more complete description of nested list and missing\n",
       "value (None) handling in reducers.\n",
       "\u001b[0;31mFile:\u001b[0m      /cvmfs/sft.cern.ch/lcg/views/LCG_105a_swan/x86_64-el9-gcc13-opt/lib/python3.9/site-packages/awkward/operations/reducers.py\n",
       "\u001b[0;31mType:\u001b[0m      function\n"
      ]
     },
     "metadata": {},
     "output_type": "display_data"
    }
   ],
   "source": [
    "ak.max?"
   ]
  },
  {
   "cell_type": "code",
   "execution_count": 122,
   "id": "56f99878-e14d-47f4-8123-e8ddd2180fe9",
   "metadata": {},
   "outputs": [
    {
     "data": {
      "text/plain": [
       "<Array [[-1, -1], [1, -1, 1, ... [-1], [-1]] type='373663 * var * int32[paramete...'>"
      ]
     },
     "execution_count": 122,
     "metadata": {},
     "output_type": "execute_result"
    }
   ],
   "source": [
    "events.Electron.charge"
   ]
  },
  {
   "cell_type": "code",
   "execution_count": null,
   "id": "00296568-e2a5-437e-862d-0cce72b69aa2",
   "metadata": {},
   "outputs": [],
   "source": []
  }
 ],
 "metadata": {
  "kernelspec": {
   "display_name": "Python 3",
   "language": "python",
   "name": "python3"
  },
  "language_info": {
   "codemirror_mode": {
    "name": "ipython",
    "version": 3
   },
   "file_extension": ".py",
   "mimetype": "text/x-python",
   "name": "python",
   "nbconvert_exporter": "python",
   "pygments_lexer": "ipython3",
   "version": "3.9.12"
  }
 },
 "nbformat": 4,
 "nbformat_minor": 5
}
