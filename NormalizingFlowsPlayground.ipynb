{
 "cells": [
  {
   "cell_type": "code",
   "execution_count": 10,
   "id": "a9ee03c6-5847-44bc-81df-9528efc5a42d",
   "metadata": {},
   "outputs": [],
   "source": [
    "import torch\n",
    "import zuko\n",
    "import matplotlib.pyplot as plt\n",
    "from zuko.flows import Flow, UnconditionalDistribution, UnconditionalTransform\n",
    "from zuko.flows.autoregressive import MaskedAutoregressiveTransform\n",
    "from zuko.distributions import DiagNormal\n",
    "from zuko.transforms import RotationTransform\n"
   ]
  },
  {
   "cell_type": "markdown",
   "id": "e6c0c73e-0a78-4fe0-b195-c9fc3c90fd9a",
   "metadata": {},
   "source": [
    "# Probability in PyTorch"
   ]
  },
  {
   "cell_type": "markdown",
   "id": "3c85a536-7bda-403b-854b-78062e71fe3a",
   "metadata": {},
   "source": [
    "## Distributions"
   ]
  },
  {
   "cell_type": "markdown",
   "id": "e5cdd826-4553-4fad-bcd5-dd64013caa89",
   "metadata": {},
   "source": [
    "From zuko tutorials on PyTorch distributions: https://zuko.readthedocs.io/stable/tutorials/basics.html"
   ]
  },
  {
   "cell_type": "markdown",
   "id": "c5705bfe-2897-461a-98d6-09dab1431fa4",
   "metadata": {},
   "source": [
    "Distributions are mathematical objects defined in pytorch: we can sample from them or we can get the log probability of points."
   ]
  },
  {
   "cell_type": "code",
   "execution_count": 3,
   "id": "efdb8f7a-b0bf-4aca-a0cd-2a927537d9bf",
   "metadata": {},
   "outputs": [
    {
     "data": {
      "text/plain": [
       "(tensor(0.7882), tensor(-1.2296))"
      ]
     },
     "execution_count": 3,
     "metadata": {},
     "output_type": "execute_result"
    }
   ],
   "source": [
    "distribution = torch.distributions.Normal(torch.tensor(0.0), torch.tensor(1.0))\n",
    "\n",
    "x = distribution.sample()  # x ~ p(X)\n",
    "log_p = distribution.log_prob(x)  # log p(X = x)\n",
    "\n",
    "x, log_p"
   ]
  },
  {
   "cell_type": "markdown",
   "id": "e2f3727d-b49b-44d8-b4d0-40779651e196",
   "metadata": {},
   "source": [
    "## Transformations"
   ]
  },
  {
   "cell_type": "markdown",
   "id": "fa92823d-25fb-4747-a48d-a2093822d8f7",
   "metadata": {},
   "source": [
    "Transformations are invertible functions applied to probability distribution. \n",
    "The determinant of the jacobian needs to be available to be able to transforms p.d.f"
   ]
  },
  {
   "cell_type": "code",
   "execution_count": 4,
   "id": "95d755b7-dc88-4455-bd68-fca816d1adaf",
   "metadata": {},
   "outputs": [
    {
     "data": {
      "text/plain": [
       "(tensor(5.7848), tensor(1.2616), tensor(1.0986))"
      ]
     },
     "execution_count": 4,
     "metadata": {},
     "output_type": "execute_result"
    }
   ],
   "source": [
    "transform = torch.distributions.AffineTransform(torch.tensor(2.0), torch.tensor(3.0))\n",
    "\n",
    "x = distribution.sample()  # x ~ p(X)\n",
    "y = transform(x)  # f(x)\n",
    "xx = transform.inv(y)  # f^{-1}(f(x))\n",
    "ladj = transform.log_abs_det_jacobian(x, y)  # log |det df(x)/dx|\n",
    "\n",
    "y, xx, ladj"
   ]
  },
  {
   "cell_type": "markdown",
   "id": "c2216a95-0e08-46cc-a1d7-64b1bb8b9085",
   "metadata": {},
   "source": [
    "# Normalizing Flows"
   ]
  },
  {
   "cell_type": "markdown",
   "id": "0c5ad936-e0ee-41f9-93e1-709e436d1a72",
   "metadata": {},
   "source": [
    "A Normalizing Flows (NF) is a set of invertible transformations that brings a complex p.d.f to a simple base distribution (usually a gaussian). \n",
    "- We can sample points from p.d.f represented by the NF, sampling from the base distribution and tranforming them. \n",
    "- We can compute the log_prob of samples by bringing the point to the base distribution and using the base pdf and the detJacobian of the transformations. "
   ]
  },
  {
   "cell_type": "code",
   "execution_count": 5,
   "id": "1b7a530a-48e6-439b-9c6a-574bdad30340",
   "metadata": {},
   "outputs": [
    {
     "data": {
      "text/plain": [
       "(tensor(-0.7271), tensor(0.1632))"
      ]
     },
     "execution_count": 5,
     "metadata": {},
     "output_type": "execute_result"
    }
   ],
   "source": [
    "flow = zuko.distributions.NormalizingFlow(transform, distribution)\n",
    "\n",
    "x = flow.sample()\n",
    "log_p = flow.log_prob(x)\n",
    "\n",
    "x, log_p"
   ]
  },
  {
   "cell_type": "markdown",
   "id": "bc055c84-f6d0-410e-8283-9c18ea11c0da",
   "metadata": {},
   "source": [
    "The set of transformations makes possible to create complex pdf."
   ]
  },
  {
   "cell_type": "markdown",
   "id": "76fbdf8a-bdd7-40e9-967d-d0dbff9eb92c",
   "metadata": {},
   "source": [
    "The transformations list is always considered in the **normalizing direction**: from the output pdf to the base distribution"
   ]
  },
  {
   "cell_type": "code",
   "execution_count": 7,
   "id": "94123318-92f2-458e-9b75-81466211310d",
   "metadata": {},
   "outputs": [],
   "source": [
    "flow = Flow(\n",
    "    transform=[\n",
    "        MaskedAutoregressiveTransform(features=2, hidden_features=(64, 64)),\n",
    "        UnconditionalTransform(RotationTransform, torch.randn(2, 2)),\n",
    "        MaskedAutoregressiveTransform(features=2, hidden_features=(64, 64)),\n",
    "    ],\n",
    "    base=UnconditionalDistribution(\n",
    "        DiagNormal,\n",
    "        torch.zeros(2),\n",
    "        torch.ones(2),\n",
    "        buffer=True,\n",
    "    ),\n",
    ")"
   ]
  },
  {
   "cell_type": "code",
   "execution_count": 8,
   "id": "f3654094-5543-44f9-931e-0bf8ed6eb6a5",
   "metadata": {},
   "outputs": [],
   "source": [
    "y =  flow().sample((10000,))"
   ]
  },
  {
   "cell_type": "code",
   "execution_count": 18,
   "id": "71999f81-c37e-43f5-9956-76acf6f45f95",
   "metadata": {},
   "outputs": [
    {
     "data": {
      "image/png": "[encoded data removed]",
      "text/plain": [
       "<Figure size 640x480 with 1 Axes>"
      ]
     },
     "metadata": {},
     "output_type": "display_data"
    }
   ],
   "source": [
    "plt.hist2d(y[:,0], y[:,1], bins =100, cmin=1);"
   ]
  },
  {
   "cell_type": "markdown",
   "id": "5357ccfe-8abb-4908-978c-76049c3130e7",
   "metadata": {},
   "source": [
    "## Conditional probability\n",
    "The transformations can be conditional on external tensors. We can model $p(x|c)$. "
   ]
  },
  {
   "cell_type": "code",
   "execution_count": 19,
   "id": "d7bc5655-3f93-4aee-b1e1-65176dd97441",
   "metadata": {},
   "outputs": [],
   "source": [
    "flow_conditional = Flow(\n",
    "    transform=[\n",
    "        MaskedAutoregressiveTransform(features=2, context=2, hidden_features=(64, 64)),\n",
    "        UnconditionalTransform(RotationTransform, torch.randn(2, 2)),\n",
    "        MaskedAutoregressiveTransform(features=2, context=2, hidden_features=(64, 64)),\n",
    "    ],\n",
    "    base=UnconditionalDistribution(\n",
    "        DiagNormal,\n",
    "        torch.zeros(2),\n",
    "        torch.ones(2),\n",
    "        buffer=True,\n",
    "    ),\n",
    ")"
   ]
  },
  {
   "cell_type": "markdown",
   "id": "cec13ac1-175b-4e1a-b54f-4ecda6524976",
   "metadata": {},
   "source": [
    "We can sample 1 event for each conditioning entry."
   ]
  },
  {
   "cell_type": "code",
   "execution_count": 25,
   "id": "ac9635e3-2076-4c6a-a169-cbe36933d59b",
   "metadata": {},
   "outputs": [
    {
     "data": {
      "text/plain": [
       "torch.Size([1, 10000, 2])"
      ]
     },
     "execution_count": 25,
     "metadata": {},
     "output_type": "execute_result"
    }
   ],
   "source": [
    "c = torch.rand((10000, 2))\n",
    "y =  flow_conditional(c).sample((1,))\n",
    "y.shape"
   ]
  },
  {
   "cell_type": "code",
   "execution_count": 28,
   "id": "f0ad1530-94d8-4929-ab92-75fe954c6fbc",
   "metadata": {},
   "outputs": [
    {
     "data": {
      "image/png": "[encoded data removed]",
      "text/plain": [
       "<Figure size 640x480 with 1 Axes>"
      ]
     },
     "metadata": {},
     "output_type": "display_data"
    }
   ],
   "source": [
    "plt.hist2d(y[0,:,0], y[0,:,1], bins =100, cmin=1);"
   ]
  },
  {
   "cell_type": "markdown",
   "id": "586923c7-b104-402a-9039-e9c98fa006af",
   "metadata": {},
   "source": [
    "We can sample multiple event for each conditioning entry. (Be careful with memory!)"
   ]
  },
  {
   "cell_type": "code",
   "execution_count": 30,
   "id": "459b4b55-0dfc-45d2-b0b6-5947472c038c",
   "metadata": {},
   "outputs": [
    {
     "data": {
      "text/plain": [
       "torch.Size([10, 10000, 2])"
      ]
     },
     "execution_count": 30,
     "metadata": {},
     "output_type": "execute_result"
    }
   ],
   "source": [
    "c = torch.rand((10000, 2))\n",
    "y =  flow_conditional(c).sample((10,))\n",
    "y.shape"
   ]
  },
  {
   "cell_type": "code",
   "execution_count": 32,
   "id": "52761fd0-9677-46df-994d-897fffd9983a",
   "metadata": {},
   "outputs": [
    {
     "data": {
      "text/plain": [
       "tensor([[-1.2629, -0.2272, -0.6104,  ..., -1.3330, -0.3332,  0.1660],\n",
       "        [-1.0601, -0.9651,  0.1611,  ..., -0.3777, -0.8926, -0.8387],\n",
       "        [ 0.7157,  1.2782,  0.2620,  ..., -0.8038,  0.1791,  0.2666],\n",
       "        ...,\n",
       "        [ 0.0347, -0.3303,  1.9848,  ...,  1.1294,  0.7180,  0.5963],\n",
       "        [ 0.7005,  0.0434, -0.6915,  ..., -0.5448, -1.4598,  0.9003],\n",
       "        [-1.0483,  0.2439,  0.1109,  ..., -0.9714, -0.5748,  0.2156]])"
      ]
     },
     "execution_count": 32,
     "metadata": {},
     "output_type": "execute_result"
    }
   ],
   "source": [
    "y[:,:,0]"
   ]
  },
  {
   "cell_type": "code",
   "execution_count": 34,
   "id": "5775d1b3-3620-4b07-a5c9-1e506ee7b49c",
   "metadata": {},
   "outputs": [
    {
     "data": {
      "image/png": "[encoded data removed]",
      "text/plain": [
       "<Figure size 640x480 with 1 Axes>"
      ]
     },
     "metadata": {},
     "output_type": "display_data"
    }
   ],
   "source": [
    "plt.hist2d(y[:,:,0].flatten(), y[:,:,1].flatten(), bins =100, cmin=1);"
   ]
  },
  {
   "cell_type": "code",
   "execution_count": null,
   "id": "8b835aaa-266a-4405-9f03-f9bef27cad86",
   "metadata": {},
   "outputs": [],
   "source": []
  }
 ],
 "metadata": {
  "kernelspec": {
   "display_name": "myenv",
   "language": "python",
   "name": "myenv"
  },
  "language_info": {
   "codemirror_mode": {
    "name": "ipython",
    "version": 3
   },
   "file_extension": ".py",
   "mimetype": "text/x-python",
   "name": "python",
   "nbconvert_exporter": "python",
   "pygments_lexer": "ipython3",
   "version": "3.11.0rc1"
  }
 },
 "nbformat": 4,
 "nbformat_minor": 5
}
