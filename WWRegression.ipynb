{
 "cells": [
  {
   "cell_type": "code",
   "execution_count": 1,
   "id": "fcb68fff-4e1c-410b-8e22-8e5caea3ba65",
   "metadata": {},
   "outputs": [],
   "source": [
    "from comet_ml import Experiment\n",
    "import comet_ml\n",
    "from comet_ml.integration.pytorch import log_model\n",
    "from libs import dataloader\n",
    "import torch\n",
    "import matplotlib.pyplot as plt\n",
    "import numpy as np\n",
    "from matplotlib.colors import LogNorm\n",
    "\n",
    "def count_parameters(model):\n",
    "    return sum(p.numel() for p in model.parameters() if p.requires_grad)"
   ]
  },
  {
   "cell_type": "markdown",
   "id": "1825ae08-3c2f-45a7-a571-13517bdee454",
   "metadata": {},
   "source": [
    "# W bosons regressions with a Transformer"
   ]
  },
  {
   "cell_type": "markdown",
   "id": "2bc74d7d-d6c4-4866-a0f7-47b9d352913d",
   "metadata": {},
   "source": [
    "## Dataset Loading"
   ]
  },
  {
   "cell_type": "code",
   "execution_count": 2,
   "id": "98610adc-cb8e-44d6-9e04-beb49edab03a",
   "metadata": {},
   "outputs": [],
   "source": [
    "datafolder = \"/eos/user/d/dvalsecc/EFT_PhD_Course/training_datasets\"\n",
    "\n",
    "# Usage example\n",
    "input_paths_training = [ f\"{datafolder}/{f}_training.npy\" for f in [\"jet_data\", \"jet_padding_mask\", \"lepton_data\", \"met_data\", \"nu_data\", \"W_data\"]]\n",
    "input_paths_validation = [ f\"{datafolder}/{f}_validation.npy\" for f in [\"jet_data\", \"jet_padding_mask\",\"lepton_data\", \"met_data\", \"nu_data\", \"W_data\"]]\n",
    "\n",
    "dataset_train = dataloader.ChunkedNumpyDataset(input_paths_training, max_events=1000000, device=\"cuda\")\n",
    "dataset_val  = dataloader.ChunkedNumpyDataset(input_paths_validation, max_events=500000, device=\"cuda\")\n",
    "\n",
    "# Create DataLoader\n",
    "batch_size = 512\n",
    "dataloader_train = torch.utils.data.DataLoader(dataset_train, batch_size=batch_size, shuffle=True)\n",
    "dataloader_val = torch.utils.data.DataLoader(dataset_val, batch_size=batch_size, shuffle=True)\n"
   ]
  },
  {
   "cell_type": "markdown",
   "id": "d4a5ea14-0bce-4f2a-96bd-a524d663f9f3",
   "metadata": {},
   "source": [
    "## Model definition"
   ]
  },
  {
   "cell_type": "markdown",
   "id": "90f45e32-899f-4f6d-86f0-5700e824eec0",
   "metadata": {},
   "source": [
    "Let's start defining a basic transformer with encoder and decoder layers."
   ]
  },
  {
   "cell_type": "code",
   "execution_count": 3,
   "id": "d925b7ff-9a83-40d3-8b1f-ff4a074486a0",
   "metadata": {},
   "outputs": [],
   "source": [
    "import torch\n",
    "import torch.nn as nn\n",
    "from torch.nn import Transformer, TransformerEncoderLayer, TransformerDecoderLayer\n",
    "\n",
    "class MaskedTransformer(nn.Module):\n",
    "    def __init__(self, d_model, nhead, num_encoder_layers, num_decoder_layers, dim_feedforward=512):\n",
    "        super().__init__()\n",
    "        #https://pytorch.org/docs/stable/generated/torch.nn.Transformer.html#torch.nn.Transformer\n",
    "        self.transformer = Transformer(d_model=d_model,\n",
    "                                       nhead=nhead,\n",
    "                                       num_encoder_layers=num_encoder_layers,\n",
    "                                       num_decoder_layers=num_decoder_layers,\n",
    "                                       dim_feedforward=dim_feedforward,\n",
    "                                       batch_first = True # Inputs will be [batch, sequence, dim]\n",
    "                                      )\n",
    "\n",
    "    def forward(self, src, tgt, src_mask=None, tgt_mask=None):\n",
    "        output = self.transformer(src, tgt, \n",
    "                                  src_key_padding_mask=src_mask,\n",
    "                                  tgt_key_padding_mask=tgt_mask)\n",
    "        return output\n"
   ]
  },
  {
   "cell_type": "markdown",
   "id": "ef31bc17-446a-4fe5-827d-e5cfe0a07502",
   "metadata": {},
   "source": [
    "Let's pass to the transformer encode the jets and get out from the Transformer decoder 2 objetcs. \n",
    "\n",
    "NB: the number of elements in the decoder is not fixed in the definition of the model."
   ]
  },
  {
   "cell_type": "code",
   "execution_count": 5,
   "id": "36458a26-c6e2-476a-b0a2-8054d07e473b",
   "metadata": {},
   "outputs": [
    {
     "name": "stderr",
     "output_type": "stream",
     "text": [
      "/usr/local/lib/python3.11/dist-packages/torch/nn/modules/transformer.py:306: UserWarning: enable_nested_tensor is True, but self.use_nested_tensor is False because encoder_layer.self_attn.num_heads is odd\n",
      "  warnings.warn(f\"enable_nested_tensor is True, but self.use_nested_tensor is False because {why_not_sparsity_fast_path}\")\n"
     ]
    },
    {
     "data": {
      "text/plain": [
       "MaskedTransformer(\n",
       "  (transformer): Transformer(\n",
       "    (encoder): TransformerEncoder(\n",
       "      (layers): ModuleList(\n",
       "        (0-3): 4 x TransformerEncoderLayer(\n",
       "          (self_attn): MultiheadAttention(\n",
       "            (out_proj): NonDynamicallyQuantizableLinear(in_features=5, out_features=5, bias=True)\n",
       "          )\n",
       "          (linear1): Linear(in_features=5, out_features=512, bias=True)\n",
       "          (dropout): Dropout(p=0.1, inplace=False)\n",
       "          (linear2): Linear(in_features=512, out_features=5, bias=True)\n",
       "          (norm1): LayerNorm((5,), eps=1e-05, elementwise_affine=True)\n",
       "          (norm2): LayerNorm((5,), eps=1e-05, elementwise_affine=True)\n",
       "          (dropout1): Dropout(p=0.1, inplace=False)\n",
       "          (dropout2): Dropout(p=0.1, inplace=False)\n",
       "        )\n",
       "      )\n",
       "      (norm): LayerNorm((5,), eps=1e-05, elementwise_affine=True)\n",
       "    )\n",
       "    (decoder): TransformerDecoder(\n",
       "      (layers): ModuleList(\n",
       "        (0-3): 4 x TransformerDecoderLayer(\n",
       "          (self_attn): MultiheadAttention(\n",
       "            (out_proj): NonDynamicallyQuantizableLinear(in_features=5, out_features=5, bias=True)\n",
       "          )\n",
       "          (multihead_attn): MultiheadAttention(\n",
       "            (out_proj): NonDynamicallyQuantizableLinear(in_features=5, out_features=5, bias=True)\n",
       "          )\n",
       "          (linear1): Linear(in_features=5, out_features=512, bias=True)\n",
       "          (dropout): Dropout(p=0.1, inplace=False)\n",
       "          (linear2): Linear(in_features=512, out_features=5, bias=True)\n",
       "          (norm1): LayerNorm((5,), eps=1e-05, elementwise_affine=True)\n",
       "          (norm2): LayerNorm((5,), eps=1e-05, elementwise_affine=True)\n",
       "          (norm3): LayerNorm((5,), eps=1e-05, elementwise_affine=True)\n",
       "          (dropout1): Dropout(p=0.1, inplace=False)\n",
       "          (dropout2): Dropout(p=0.1, inplace=False)\n",
       "          (dropout3): Dropout(p=0.1, inplace=False)\n",
       "        )\n",
       "      )\n",
       "      (norm): LayerNorm((5,), eps=1e-05, elementwise_affine=True)\n",
       "    )\n",
       "  )\n",
       ")"
      ]
     },
     "execution_count": 5,
     "metadata": {},
     "output_type": "execute_result"
    }
   ],
   "source": [
    "# Example usage\n",
    "d_model = 5\n",
    "nhead = 1\n",
    "num_encoder_layers = 4\n",
    "num_decoder_layers = 4\n",
    "\n",
    "model = MaskedTransformer(d_model, nhead, num_encoder_layers, num_decoder_layers)\n",
    "model.to(\"cuda\")"
   ]
  },
  {
   "cell_type": "code",
   "execution_count": 6,
   "id": "a858e971-ee9b-473b-a25d-13b42bbc3353",
   "metadata": {},
   "outputs": [
    {
     "data": {
      "text/plain": [
       "torch.Size([512, 2, 5])"
      ]
     },
     "execution_count": 6,
     "metadata": {},
     "output_type": "execute_result"
    }
   ],
   "source": [
    "inputs = next(iter(dataloader_train))\n",
    "jets, jets_mask, lepton, met, nu, W = inputs\n",
    "tgt = torch.zeros((batch_size, 2, 5), dtype=torch.float32).to(\"cuda\")\n",
    "\n",
    "W_out = model(jets, tgt, src_mask=jets_mask)\n",
    "W_out.shape"
   ]
  },
  {
   "cell_type": "code",
   "execution_count": 7,
   "id": "c32a3b9e-5b89-4734-b750-42f5f0caa100",
   "metadata": {},
   "outputs": [
    {
     "data": {
      "text/plain": [
       "tensor([[[ 0.9528,  1.0941,  0.0338, -1.6442, -0.4365],\n",
       "         [ 1.6635, -0.0082,  0.3260, -0.7044, -1.2769]],\n",
       "\n",
       "        [[ 1.3977,  0.1294,  0.5803, -1.5397, -0.5677],\n",
       "         [ 1.5451,  0.5479, -0.0347, -0.7186, -1.3397]],\n",
       "\n",
       "        [[ 1.5874, -0.0315,  0.5035, -0.8005, -1.2590],\n",
       "         [ 1.8460, -0.5109,  0.2176, -0.9741, -0.5787]],\n",
       "\n",
       "        ...,\n",
       "\n",
       "        [[ 1.1332, -0.6795, -1.4442, -0.0870,  1.0775],\n",
       "         [ 1.2335, -1.7722, -0.0834,  0.5732,  0.0488]],\n",
       "\n",
       "        [[ 1.3836, -1.0411, -0.0407, -1.1394,  0.8376],\n",
       "         [ 1.3730,  0.7305, -0.0695, -1.5210, -0.5129]],\n",
       "\n",
       "        [[ 1.9051, -0.2597, -0.0919, -0.9865, -0.5670],\n",
       "         [ 1.8256,  0.2272, -0.4510, -1.0551, -0.5468]]], device='cuda:0',\n",
       "       grad_fn=<NativeLayerNormBackward0>)"
      ]
     },
     "execution_count": 7,
     "metadata": {},
     "output_type": "execute_result"
    }
   ],
   "source": [
    "W_out"
   ]
  },
  {
   "cell_type": "markdown",
   "id": "150ec64c-d064-4ba4-835e-713b6fad3f45",
   "metadata": {},
   "source": [
    "Until now our model makes little sense. We are passing the jets to the Transformer encoder, and then passing empty tensors [Batch, 2, 5] to the Transformer decoder. \n",
    "\n",
    "The Transformer decoder manipulate the 2 empty tensors (columns) and using information from the encoder, returns them. \n",
    "\n",
    "**Problems**: \n",
    "- At the moment the transformer dimension is fixed to the dimension of the last axis of the input --> very limited\n",
    "- The same for the target.\n",
    "\n",
    "We need more capacity"
   ]
  },
  {
   "cell_type": "markdown",
   "id": "12b43bff-7017-43d8-b28f-ef2789429fba",
   "metadata": {},
   "source": [
    "### Transformer with projections in an embedded space"
   ]
  },
  {
   "cell_type": "code",
   "execution_count": 8,
   "id": "f92db467-8ae2-4b1b-b1df-3a4207edd9f4",
   "metadata": {},
   "outputs": [],
   "source": [
    "import torch\n",
    "import torch.nn as nn\n",
    "from torch.nn import Transformer, TransformerEncoderLayer, TransformerDecoderLayer\n",
    "\n",
    "class WWRegressor(nn.Module):\n",
    "    \n",
    "    def __init__(self, d_model=128, nhead=8, \n",
    "                 num_encoder_layers=2, \n",
    "                 num_decoder_layers=2, \n",
    "                 dim_feedforward=512,\n",
    "                 output_dim=4,\n",
    "                 regression_net=[64,64],\n",
    "                 jet_features = 5\n",
    "                ):\n",
    "        super().__init__()\n",
    "        self.d_model = d_model\n",
    "        self.transformer = MaskedTransformer(d_model, nhead, num_encoder_layers, num_decoder_layers, dim_feedforward)\n",
    "\n",
    "        self.embedding_jets = nn.Sequential(\n",
    "            nn.Linear(jet_features, d_model),\n",
    "            nn.ReLU()\n",
    "        )\n",
    "\n",
    "        _layers = [nn.Linear(d_model, regression_net[0]), nn.ReLU()]\n",
    "        for i in range(len(regression_net)-1):\n",
    "            _layers.append(nn.Linear(regression_net[i], regression_net[i+1]))\n",
    "            _layers.append(nn.ReLU())\n",
    "            \n",
    "        _layers.append(nn.Linear(regression_net[-1], 4))\n",
    "        self.regression_net = nn.Sequential(*_layers)\n",
    "\n",
    "    def forward(self, jets, jets_mask):\n",
    "        emb = self.embedding_jets(jets)\n",
    "        tgt = torch.zeros((jets.shape[0], 2, self.d_model), dtype=torch.float32).to(\"cuda\")\n",
    "        out_transf = self.transformer(src=emb, tgt=tgt, src_mask=jets_mask)\n",
    "\n",
    "        out = self.regression_net(out_transf)\n",
    "        return out\n",
    "        "
   ]
  },
  {
   "cell_type": "code",
   "execution_count": 9,
   "id": "59a31541-e683-4eff-a26f-ce8a9ef02331",
   "metadata": {},
   "outputs": [
    {
     "data": {
      "text/plain": [
       "WWRegressor(\n",
       "  (transformer): MaskedTransformer(\n",
       "    (transformer): Transformer(\n",
       "      (encoder): TransformerEncoder(\n",
       "        (layers): ModuleList(\n",
       "          (0-3): 4 x TransformerEncoderLayer(\n",
       "            (self_attn): MultiheadAttention(\n",
       "              (out_proj): NonDynamicallyQuantizableLinear(in_features=64, out_features=64, bias=True)\n",
       "            )\n",
       "            (linear1): Linear(in_features=64, out_features=512, bias=True)\n",
       "            (dropout): Dropout(p=0.1, inplace=False)\n",
       "            (linear2): Linear(in_features=512, out_features=64, bias=True)\n",
       "            (norm1): LayerNorm((64,), eps=1e-05, elementwise_affine=True)\n",
       "            (norm2): LayerNorm((64,), eps=1e-05, elementwise_affine=True)\n",
       "            (dropout1): Dropout(p=0.1, inplace=False)\n",
       "            (dropout2): Dropout(p=0.1, inplace=False)\n",
       "          )\n",
       "        )\n",
       "        (norm): LayerNorm((64,), eps=1e-05, elementwise_affine=True)\n",
       "      )\n",
       "      (decoder): TransformerDecoder(\n",
       "        (layers): ModuleList(\n",
       "          (0-3): 4 x TransformerDecoderLayer(\n",
       "            (self_attn): MultiheadAttention(\n",
       "              (out_proj): NonDynamicallyQuantizableLinear(in_features=64, out_features=64, bias=True)\n",
       "            )\n",
       "            (multihead_attn): MultiheadAttention(\n",
       "              (out_proj): NonDynamicallyQuantizableLinear(in_features=64, out_features=64, bias=True)\n",
       "            )\n",
       "            (linear1): Linear(in_features=64, out_features=512, bias=True)\n",
       "            (dropout): Dropout(p=0.1, inplace=False)\n",
       "            (linear2): Linear(in_features=512, out_features=64, bias=True)\n",
       "            (norm1): LayerNorm((64,), eps=1e-05, elementwise_affine=True)\n",
       "            (norm2): LayerNorm((64,), eps=1e-05, elementwise_affine=True)\n",
       "            (norm3): LayerNorm((64,), eps=1e-05, elementwise_affine=True)\n",
       "            (dropout1): Dropout(p=0.1, inplace=False)\n",
       "            (dropout2): Dropout(p=0.1, inplace=False)\n",
       "            (dropout3): Dropout(p=0.1, inplace=False)\n",
       "          )\n",
       "        )\n",
       "        (norm): LayerNorm((64,), eps=1e-05, elementwise_affine=True)\n",
       "      )\n",
       "    )\n",
       "  )\n",
       "  (embedding_jets): Sequential(\n",
       "    (0): Linear(in_features=5, out_features=64, bias=True)\n",
       "    (1): ReLU()\n",
       "  )\n",
       "  (regression_net): Sequential(\n",
       "    (0): Linear(in_features=64, out_features=32, bias=True)\n",
       "    (1): ReLU()\n",
       "    (2): Linear(in_features=32, out_features=32, bias=True)\n",
       "    (3): ReLU()\n",
       "    (4): Linear(in_features=32, out_features=4, bias=True)\n",
       "  )\n",
       ")"
      ]
     },
     "execution_count": 9,
     "metadata": {},
     "output_type": "execute_result"
    }
   ],
   "source": [
    "# Example usage\n",
    "d_model = 64\n",
    "nhead = 8\n",
    "num_encoder_layers = 4\n",
    "num_decoder_layers = 4\n",
    "\n",
    "model = WWRegressor(d_model, nhead, num_encoder_layers, num_decoder_layers,\n",
    "                   regression_net=[32,32])\n",
    "model.to(\"cuda\")"
   ]
  },
  {
   "cell_type": "code",
   "execution_count": 10,
   "id": "33451fa0-e3fd-4068-9ef2-e9f310db6d5e",
   "metadata": {},
   "outputs": [
    {
     "data": {
      "text/plain": [
       "torch.Size([512, 2, 4])"
      ]
     },
     "execution_count": 10,
     "metadata": {},
     "output_type": "execute_result"
    }
   ],
   "source": [
    "inputs = next(iter(dataloader_train))\n",
    "jets, jets_mask, lepton, met, nu, W = inputs\n",
    "W_out = model(jets, jets_mask)\n",
    "W_out.shape"
   ]
  },
  {
   "cell_type": "code",
   "execution_count": 11,
   "id": "cdf0b0b7-eb15-4b4e-9d67-2a919f72e8f7",
   "metadata": {},
   "outputs": [
    {
     "data": {
      "text/plain": [
       "tensor([[[-0.1521,  0.1395,  0.1542,  0.1344],\n",
       "         [-0.1391,  0.1795,  0.1325,  0.0889]],\n",
       "\n",
       "        [[-0.1609,  0.1962,  0.0755,  0.0936],\n",
       "         [-0.0771,  0.1646,  0.0909,  0.0756]],\n",
       "\n",
       "        [[-0.1285,  0.1372,  0.1536,  0.0411],\n",
       "         [-0.1214,  0.0821,  0.2436,  0.1409]],\n",
       "\n",
       "        ...,\n",
       "\n",
       "        [[-0.0897,  0.1980,  0.0626,  0.0661],\n",
       "         [-0.1571,  0.1922,  0.1001,  0.0697]],\n",
       "\n",
       "        [[-0.2079,  0.1236,  0.1565,  0.1516],\n",
       "         [-0.2232,  0.1717,  0.1229,  0.0542]],\n",
       "\n",
       "        [[-0.1853,  0.1643,  0.1237,  0.1099],\n",
       "         [-0.1412,  0.1488,  0.0799,  0.1324]]], device='cuda:0',\n",
       "       grad_fn=<ViewBackward0>)"
      ]
     },
     "execution_count": 11,
     "metadata": {},
     "output_type": "execute_result"
    }
   ],
   "source": [
    "W_out"
   ]
  },
  {
   "cell_type": "markdown",
   "id": "2b36d769-2270-4eec-a14d-c9505ad7a2b2",
   "metadata": {},
   "source": [
    "The numbers are still nonsense of course, we haven't trained the model. But now the shapes are handled correctly. \n",
    "We need now to add also the leptons and met to the inputs. "
   ]
  },
  {
   "cell_type": "markdown",
   "id": "83265509-330e-4f05-8739-22ac4fb181bc",
   "metadata": {},
   "source": [
    "### Adding leptons and MET to the inputs\n",
    "Leptons and MET need a different embedding network to make the dimensions of the input tensors to the transformer the same"
   ]
  },
  {
   "cell_type": "code",
   "execution_count": 59,
   "id": "e6fc5cb7-4e9d-46a8-a659-c9367119a65d",
   "metadata": {},
   "outputs": [],
   "source": [
    "datafolder = \"/eos/user/d/dvalsecc/EFT_PhD_Course/training_datasets\"\n",
    "\n",
    "# Usage example\n",
    "input_paths_training = [ f\"{datafolder}/{f}_training.npy\" for f in [\"jet_data\", \"lepton_data\", \"met_data\",\"jetlepmet_padding_mask\",  \"nu_data\", \"W_data\"]]\n",
    "input_paths_validation = [ f\"{datafolder}/{f}_validation.npy\" for f in [\"jet_data\", \"lepton_data\", \"met_data\",\"jetlepmet_padding_mask\", \"nu_data\", \"W_data\"]]\n",
    "\n",
    "dataset_train = dataloader.ChunkedNumpyDataset(input_paths_training, max_events=1000000, device=\"cuda\")\n",
    "dataset_val  = dataloader.ChunkedNumpyDataset(input_paths_validation, max_events=500000, device=\"cuda\")\n",
    "\n",
    "# Create DataLoader\n",
    "batch_size = 1024\n",
    "dataloader_train = torch.utils.data.DataLoader(dataset_train, batch_size=batch_size, shuffle=False)\n",
    "dataloader_val = torch.utils.data.DataLoader(dataset_val, batch_size=batch_size*5, shuffle=False)"
   ]
  },
  {
   "cell_type": "code",
   "execution_count": 6,
   "id": "d1ea1d7c-3e7f-49ca-919f-5a8506ced2ac",
   "metadata": {},
   "outputs": [],
   "source": [
    "import torch\n",
    "import torch.nn as nn\n",
    "from torch.nn import Transformer, TransformerEncoderLayer, TransformerDecoderLayer\n",
    "\n",
    "def get_obj_type_tensor(max_njets):\n",
    "    o = torch.zeros((max_njets+2+1, 1), dtype=torch.float32)\n",
    "    o[-3:-1,0] = 1.\n",
    "    o[-1,0] = -1.\n",
    "    return o\n",
    "\n",
    "class WWRegressorComplete(nn.Module):\n",
    "    \n",
    "    def __init__(self, d_model=128, nhead=8, \n",
    "                 num_encoder_layers=2, \n",
    "                 num_decoder_layers=2, \n",
    "                 dim_feedforward=512,\n",
    "                 output_dim=4,\n",
    "                 regression_net=[64,64],\n",
    "                 jet_features = 5,\n",
    "                 let_features = 3, \n",
    "                 met_features = 2,\n",
    "                 max_njets= 13,\n",
    "                ):\n",
    "        super().__init__()\n",
    "        self.d_model = d_model\n",
    "        self.transformer = MaskedTransformer(d_model, nhead, num_encoder_layers, num_decoder_layers, dim_feedforward)\n",
    "\n",
    "        self.embedding_jets = nn.Sequential(\n",
    "            nn.Linear(jet_features, d_model-1), # -1 to account for the additional label added to the features\n",
    "            nn.GELU()\n",
    "        )\n",
    "        self.embedding_lep = nn.Sequential(\n",
    "            nn.Linear(let_features, d_model-1),\n",
    "            nn.GELU()\n",
    "        )\n",
    "        self.embedding_met = nn.Sequential(\n",
    "            nn.Linear(met_features, d_model-1),\n",
    "            nn.GELU()\n",
    "        )\n",
    "        \n",
    "        _layers = [nn.Linear(d_model, regression_net[0]), nn.GELU()]\n",
    "        for i in range(len(regression_net)-1):\n",
    "            _layers.append(nn.Linear(regression_net[i], regression_net[i+1]))\n",
    "            _layers.append(nn.GELU())\n",
    "            \n",
    "        _layers.append(nn.Linear(regression_net[-1], 4))\n",
    "        self.regression_net = nn.Sequential(*_layers)\n",
    "\n",
    "        self.register_buffer('obj_type', get_obj_type_tensor(max_njets))\n",
    "        self.register_buffer(\"decoder_null_tokens\", torch.zeros((2, self.d_model), dtype=torch.float32))\n",
    "        \n",
    "\n",
    "    def forward(self, jets, leptons, met, full_mask):\n",
    "        batch_size = jets.size(0)\n",
    "        emb_jets = self.embedding_jets(jets)\n",
    "        emb_lep = self.embedding_lep(leptons)\n",
    "        emb_met = self.embedding_met(met)\n",
    "\n",
    "        labels = self.obj_type.expand(batch_size, *list(self.obj_type.shape))\n",
    "        \n",
    "        emb = torch.cat([emb_jets, emb_lep, emb_met], dim=1)\n",
    "        emb = torch.cat([emb, labels], dim=-1)\n",
    "\n",
    "        # expanding the mask for lepton and met\n",
    "        \n",
    "        tgt = self.decoder_null_tokens.expand(batch_size, *list(self.decoder_null_tokens.shape))\n",
    "        out_transf = self.transformer(src=emb, tgt=tgt, src_mask=full_mask)\n",
    "\n",
    "        out = self.regression_net(out_transf)\n",
    "        return out\n",
    "        "
   ]
  },
  {
   "cell_type": "code",
   "execution_count": 7,
   "id": "22a190a6-17df-424c-bd9c-8a388f35f7c5",
   "metadata": {},
   "outputs": [
    {
     "data": {
      "text/plain": [
       "WWRegressorComplete(\n",
       "  (transformer): MaskedTransformer(\n",
       "    (transformer): Transformer(\n",
       "      (encoder): TransformerEncoder(\n",
       "        (layers): ModuleList(\n",
       "          (0-1): 2 x TransformerEncoderLayer(\n",
       "            (self_attn): MultiheadAttention(\n",
       "              (out_proj): NonDynamicallyQuantizableLinear(in_features=64, out_features=64, bias=True)\n",
       "            )\n",
       "            (linear1): Linear(in_features=64, out_features=512, bias=True)\n",
       "            (dropout): Dropout(p=0.1, inplace=False)\n",
       "            (linear2): Linear(in_features=512, out_features=64, bias=True)\n",
       "            (norm1): LayerNorm((64,), eps=1e-05, elementwise_affine=True)\n",
       "            (norm2): LayerNorm((64,), eps=1e-05, elementwise_affine=True)\n",
       "            (dropout1): Dropout(p=0.1, inplace=False)\n",
       "            (dropout2): Dropout(p=0.1, inplace=False)\n",
       "          )\n",
       "        )\n",
       "        (norm): LayerNorm((64,), eps=1e-05, elementwise_affine=True)\n",
       "      )\n",
       "      (decoder): TransformerDecoder(\n",
       "        (layers): ModuleList(\n",
       "          (0-1): 2 x TransformerDecoderLayer(\n",
       "            (self_attn): MultiheadAttention(\n",
       "              (out_proj): NonDynamicallyQuantizableLinear(in_features=64, out_features=64, bias=True)\n",
       "            )\n",
       "            (multihead_attn): MultiheadAttention(\n",
       "              (out_proj): NonDynamicallyQuantizableLinear(in_features=64, out_features=64, bias=True)\n",
       "            )\n",
       "            (linear1): Linear(in_features=64, out_features=512, bias=True)\n",
       "            (dropout): Dropout(p=0.1, inplace=False)\n",
       "            (linear2): Linear(in_features=512, out_features=64, bias=True)\n",
       "            (norm1): LayerNorm((64,), eps=1e-05, elementwise_affine=True)\n",
       "            (norm2): LayerNorm((64,), eps=1e-05, elementwise_affine=True)\n",
       "            (norm3): LayerNorm((64,), eps=1e-05, elementwise_affine=True)\n",
       "            (dropout1): Dropout(p=0.1, inplace=False)\n",
       "            (dropout2): Dropout(p=0.1, inplace=False)\n",
       "            (dropout3): Dropout(p=0.1, inplace=False)\n",
       "          )\n",
       "        )\n",
       "        (norm): LayerNorm((64,), eps=1e-05, elementwise_affine=True)\n",
       "      )\n",
       "    )\n",
       "  )\n",
       "  (embedding_jets): Sequential(\n",
       "    (0): Linear(in_features=5, out_features=63, bias=True)\n",
       "    (1): GELU(approximate='none')\n",
       "  )\n",
       "  (embedding_lep): Sequential(\n",
       "    (0): Linear(in_features=3, out_features=63, bias=True)\n",
       "    (1): GELU(approximate='none')\n",
       "  )\n",
       "  (embedding_met): Sequential(\n",
       "    (0): Linear(in_features=2, out_features=63, bias=True)\n",
       "    (1): GELU(approximate='none')\n",
       "  )\n",
       "  (regression_net): Sequential(\n",
       "    (0): Linear(in_features=64, out_features=32, bias=True)\n",
       "    (1): GELU(approximate='none')\n",
       "    (2): Linear(in_features=32, out_features=32, bias=True)\n",
       "    (3): GELU(approximate='none')\n",
       "    (4): Linear(in_features=32, out_features=4, bias=True)\n",
       "  )\n",
       ")"
      ]
     },
     "execution_count": 7,
     "metadata": {},
     "output_type": "execute_result"
    }
   ],
   "source": [
    "# Example usage\n",
    "d_model = 64\n",
    "nhead = 4\n",
    "num_encoder_layers = 2\n",
    "num_decoder_layers = 2\n",
    "\n",
    "model = WWRegressorComplete(d_model, nhead, num_encoder_layers, num_decoder_layers,\n",
    "                   regression_net=[32,32])\n",
    "model.to(\"cuda\")"
   ]
  },
  {
   "cell_type": "code",
   "execution_count": 8,
   "id": "63cd7d97-2d62-4157-8e4b-d79128c4343d",
   "metadata": {},
   "outputs": [
    {
     "data": {
      "text/plain": [
       "torch.Size([1024, 2, 4])"
      ]
     },
     "execution_count": 8,
     "metadata": {},
     "output_type": "execute_result"
    }
   ],
   "source": [
    "inputs = next(iter(dataloader_train))\n",
    "jets, lepton, met, full_mask, nu, W = inputs\n",
    "W_out = model(jets, lepton, met, full_mask)\n",
    "W_out.shape"
   ]
  },
  {
   "cell_type": "markdown",
   "id": "8754553c-99cb-4a39-9ec2-511b1b9ed0db",
   "metadata": {},
   "source": [
    "# Training Loop"
   ]
  },
  {
   "cell_type": "code",
   "execution_count": 9,
   "id": "3913c482-92fe-43e0-9d68-eb1762feae2c",
   "metadata": {},
   "outputs": [],
   "source": [
    "def train(model, device, loader, val_loader,  optimizer, criterion, epochs, experiment=None):\n",
    "    model.train()\n",
    "    for epoch in range(epochs):\n",
    "        model.train()\n",
    "        for batch_idx, (jets, lepton, met, full_mask, nu, W) in enumerate(loader):\n",
    "            \n",
    "            optimizer.zero_grad()\n",
    "            W_out = model(jets, lepton, met, full_mask)\n",
    "            \n",
    "            loss = criterion(W_out, W).mean()\n",
    "            if batch_idx % 100 == 0:\n",
    "                print(f\"epoch {epoch}, step {batch_idx}, Loss: {loss}\")\n",
    "                if exp:\n",
    "                   experiment.log_metric(\"train_loss_step\", loss.item(), step=batch_idx)\n",
    "            loss.backward()\n",
    "            optimizer.step()\n",
    "        print(\"End of epoch\")\n",
    "        # Log metrics\n",
    "        if experiment:\n",
    "            experiment.log_metric(\"train_loss_epoch\", loss.item(), step=epoch)\n",
    "        \n",
    "        # Validation loss\n",
    "        model.eval()\n",
    "        val_loss = 0.  \n",
    "        with torch.no_grad():\n",
    "            for jets_val, lepton_val, met_val ,full_mask_val, nu_val, W_val in val_loader:\n",
    "                W_out_val = model(jets_val, lepton_val, met_val,full_mask_val)\n",
    "                loss = criterion(W_out_val, W_val)\n",
    "                val_loss += loss.nanmean().item()\n",
    "                \n",
    "            val_loss = val_loss / len(val_loader)\n",
    "            \n",
    "            if experiment:\n",
    "                experiment.log_metric(\"val_loss_epoch\", val_loss.item(), step=epoch)\n",
    "            print(f\"epoch {epoch}, validation loss: {val_loss}\")\n",
    "\n",
    "    return model"
   ]
  },
  {
   "cell_type": "code",
   "execution_count": 116,
   "id": "2535a039-5684-4bcc-891e-2a5bdecffe28",
   "metadata": {},
   "outputs": [
    {
     "name": "stderr",
     "output_type": "stream",
     "text": [
      "\u001b[1;38;5;39mCOMET INFO:\u001b[0m Valid Comet API Key saved in /afs/cern.ch/user/d/dvalsecc/.comet.config (set COMET_CONFIG to change where it is saved).\n"
     ]
    }
   ],
   "source": [
    "comet_token = open(\"comet_token.txt\").read()\n",
    "comet_ml.login(api_key=comet_token)\n"
   ]
  },
  {
   "cell_type": "code",
   "execution_count": 11,
   "id": "ea6087c0-6e5e-45a9-ada6-fd2b977a4804",
   "metadata": {},
   "outputs": [
    {
     "name": "stdout",
     "output_type": "stream",
     "text": [
      "Model with 160359 parameters\n",
      "epoch 0, step 0, Loss: 1.0820764303207397\n",
      "epoch 0, step 100, Loss: 0.9862585067749023\n",
      "epoch 0, step 200, Loss: 0.878739058971405\n",
      "epoch 0, step 300, Loss: 0.8836219310760498\n",
      "epoch 0, step 400, Loss: 0.8043059706687927\n",
      "epoch 0, step 500, Loss: 0.8152502775192261\n",
      "epoch 0, step 600, Loss: 0.7384575605392456\n",
      "epoch 0, step 700, Loss: 0.7541215419769287\n",
      "epoch 0, step 800, Loss: 0.7759079933166504\n",
      "epoch 0, step 900, Loss: 0.7477077841758728\n",
      "End of epoch\n",
      "epoch 0, validation loss: 0.9860901236534119\n",
      "epoch 1, step 0, Loss: 0.7519688606262207\n",
      "epoch 1, step 100, Loss: 0.769641637802124\n",
      "epoch 1, step 200, Loss: 0.7413125038146973\n",
      "epoch 1, step 300, Loss: 0.7994825839996338\n",
      "epoch 1, step 400, Loss: 0.7565613985061646\n",
      "epoch 1, step 500, Loss: 0.7697480916976929\n",
      "epoch 1, step 600, Loss: 0.7105516791343689\n",
      "epoch 1, step 700, Loss: 0.7304924726486206\n",
      "epoch 1, step 800, Loss: 0.747958779335022\n",
      "epoch 1, step 900, Loss: 0.7263773083686829\n",
      "End of epoch\n",
      "epoch 1, validation loss: 1.0288605464504297\n",
      "epoch 2, step 0, Loss: 0.7338635325431824\n",
      "epoch 2, step 100, Loss: 0.7560668587684631\n",
      "epoch 2, step 200, Loss: 0.7287740707397461\n",
      "epoch 2, step 300, Loss: 0.7908885478973389\n",
      "epoch 2, step 400, Loss: 0.7486015558242798\n",
      "epoch 2, step 500, Loss: 0.7612440586090088\n",
      "epoch 2, step 600, Loss: 0.7040104866027832\n",
      "epoch 2, step 700, Loss: 0.7208620309829712\n",
      "epoch 2, step 800, Loss: 0.741676390171051\n",
      "epoch 2, step 900, Loss: 0.7254362106323242\n",
      "End of epoch\n",
      "epoch 2, validation loss: 1.016677456886978\n",
      "epoch 3, step 0, Loss: 0.7309256792068481\n",
      "epoch 3, step 100, Loss: 0.7489405870437622\n",
      "epoch 3, step 200, Loss: 0.7253425121307373\n",
      "epoch 3, step 300, Loss: 0.7859035134315491\n",
      "epoch 3, step 400, Loss: 0.7440562844276428\n",
      "epoch 3, step 500, Loss: 0.7572207450866699\n",
      "epoch 3, step 600, Loss: 0.7026534676551819\n",
      "epoch 3, step 700, Loss: 0.7186501622200012\n",
      "epoch 3, step 800, Loss: 0.736741304397583\n",
      "epoch 3, step 900, Loss: 0.7186638712882996\n",
      "End of epoch\n",
      "epoch 3, validation loss: 1.0030317589305418\n",
      "epoch 4, step 0, Loss: 0.7275227308273315\n",
      "epoch 4, step 100, Loss: 0.7466832399368286\n",
      "epoch 4, step 200, Loss: 0.7232169508934021\n",
      "epoch 4, step 300, Loss: 0.7805125713348389\n",
      "epoch 4, step 400, Loss: 0.7438119649887085\n",
      "epoch 4, step 500, Loss: 0.7550854682922363\n",
      "epoch 4, step 600, Loss: 0.6987424492835999\n",
      "epoch 4, step 700, Loss: 0.716655433177948\n",
      "epoch 4, step 800, Loss: 0.7337786555290222\n",
      "epoch 4, step 900, Loss: 0.7172704935073853\n",
      "End of epoch\n",
      "epoch 4, validation loss: 0.9909770227892511\n"
     ]
    }
   ],
   "source": [
    "num_epochs = 5\n",
    "\n",
    "device = torch.device(\"cuda\" if torch.cuda.is_available() else \"cpu\")\n",
    "\n",
    "d_model = 32\n",
    "nhead = 4\n",
    "num_encoder_layers = 2\n",
    "num_decoder_layers = 2\n",
    "learning_rate = 1e-4\n",
    "\n",
    "model = WWRegressorComplete(d_model, nhead, num_encoder_layers, num_decoder_layers,\n",
    "                   regression_net=[16])\n",
    "model.to(device)\n",
    "\n",
    "print(f\"Model with {count_parameters(model)} parameters\")\n",
    "\n",
    "optimizer = torch.optim.RAdam(model.parameters(), lr=learning_rate)\n",
    "criterion = nn.MSELoss(reduction='none')\n",
    "\n",
    "# Create Comet.ml experiment\n",
    "# exp = Experiment(\n",
    "#              api_key=comet_token,\n",
    "#              project_name=\"PhDCourse\",\n",
    "#              workspace=\"valsdav\",\n",
    "#              auto_output_logging = \"simple\",\n",
    "#              # disabled=True\n",
    "#          )\n",
    "# exp.log_parameters({\"model_param_tot\": count_parameters(model)})\n",
    "\n",
    "#exp.display(tab='panels')\n",
    "exp = None\n",
    "\n",
    "trained_model = train(model, device, dataloader_train, dataloader_val, optimizer, criterion, num_epochs)"
   ]
  },
  {
   "cell_type": "code",
   "execution_count": 28,
   "id": "75b34df9-84c9-49da-800b-ca63ad743d68",
   "metadata": {},
   "outputs": [],
   "source": [
    "torch.cuda.empty_cache()"
   ]
  },
  {
   "cell_type": "code",
   "execution_count": 14,
   "id": "f09aba5d-df20-465f-85e5-79436cc4de9c",
   "metadata": {},
   "outputs": [],
   "source": [
    "with torch.no_grad():\n",
    "    jets, lepton, met,full_mask, nu, W = dataset_val[0:10000]\n",
    "    W_out = model(jets, lepton, met,full_mask)\n",
    "    loss = criterion(W_out, W)"
   ]
  },
  {
   "cell_type": "code",
   "execution_count": 62,
   "id": "c208e8b6-213f-4ffb-a7c1-268afba98959",
   "metadata": {},
   "outputs": [],
   "source": [
    "def validation_plots(W, W_out):\n",
    "    f , axs = plt.subplots(2, 4, figsize=(16, 10))\n",
    "    for i in range(2):\n",
    "        for j in range(4):\n",
    "            f = plt\n",
    "            axs[i][j].hist2d(W[:,i, j].cpu().numpy(), W_out[:,i, j].cpu().numpy(),\n",
    "              bins=60, range=((-3,3),(-3,3)),\n",
    "            norm=LogNorm())\n",
    "            if j == 0:\n",
    "                axs[i][j].set_xlabel(\"Target pt\")\n",
    "                axs[i][j].set_ylabel(\"Regressed pt\")\n",
    "            elif j == 1:\n",
    "                axs[i][j].set_xlabel(\"Target eta\")\n",
    "                axs[i][j].set_ylabel(\"Regressed eta\")\n",
    "            elif j == 2:\n",
    "                axs[i][j].set_xlabel(\"Target phi\")\n",
    "                axs[i][j].set_ylabel(\"Regressed phi\")\n",
    "            elif j == 3:\n",
    "                axs[i][j].set_xlabel(\"Target mass\")\n",
    "                axs[i][j].set_ylabel(\"Regressed mass\")\n",
    "\n",
    "    f , axs = plt.subplots(2, 4, figsize=(16, 10))\n",
    "    for i in range(2):\n",
    "        for j in range(4):\n",
    "            f = plt\n",
    "            axs[i][j].hist(W[:,i, j].cpu().numpy(), bins=80, range=(-3,3), label=\"Target\", histtype=\"step\")\n",
    "            axs[i][j].hist(W_out[:,i, j].cpu().numpy(), bins=80, range=(-3,3), label=\"Regressed\", histtype=\"step\")\n",
    "            axs[i][j].legend()\n",
    "            if j == 0:\n",
    "                axs[i][j].set_xlabel(\"pt\")\n",
    "            elif j == 1:\n",
    "                axs[i][j].set_xlabel(\"eta\")\n",
    "            elif j == 2:\n",
    "                axs[i][j].set_xlabel(\"phi\")\n",
    "            elif j == 3:\n",
    "                axs[i][j].set_xlabel(\"mass\")"
   ]
  },
  {
   "cell_type": "code",
   "execution_count": 16,
   "id": "4c274212-f734-4975-a13f-48db42ed5117",
   "metadata": {},
   "outputs": [
    {
     "data": {
      "image/png": "[encoded data removed]",
      "text/plain": [
       "<Figure size 1600x1000 with 8 Axes>"
      ]
     },
     "metadata": {},
     "output_type": "display_data"
    },
    {
     "data": {
      "image/png": "[encoded data removed]",
      "text/plain": [
       "<Figure size 1600x1000 with 8 Axes>"
      ]
     },
     "metadata": {},
     "output_type": "display_data"
    }
   ],
   "source": [
    "validation_plots(W, W_out)"
   ]
  },
  {
   "cell_type": "markdown",
   "id": "dd6ebf60-7d84-4b62-a04d-6e27dc8717f7",
   "metadata": {},
   "source": [
    "# Training with MMD loss"
   ]
  },
  {
   "cell_type": "markdown",
   "id": "3c5433a9-d321-4e26-9fa7-73eec1c31c52",
   "metadata": {},
   "source": [
    "Often regressions are biased toward the most probable value. This is a \"feature\" of the MSE loss.\n",
    "If the value to regress is not \"flat\" but has long tails, the regression will often collpapse on the most probable case.\n",
    "\n",
    "Using an alternative regression loss such as the **Huber loss** [wikipedia](https://en.wikipedia.org/wiki/Huber_loss) can alleviate the problem, but not solve it completely. \n",
    "\n",
    "To counteract this problem we can add to the loss a term that is measuring the difference between the distribution of the target variable and the distribution of the output of the regression./\n",
    "\n"
   ]
  },
  {
   "cell_type": "code",
   "execution_count": 17,
   "id": "39dbcdcf-c9a8-4b45-ae32-a4eb71a148db",
   "metadata": {},
   "outputs": [],
   "source": [
    "from libs.mmd import MMD"
   ]
  },
  {
   "cell_type": "code",
   "execution_count": 42,
   "id": "7e1202e8-cb2f-4d10-b697-ee81854218d7",
   "metadata": {},
   "outputs": [],
   "source": [
    "mask_nan = torch.isnan(W_out).any(axis=(1,2))"
   ]
  },
  {
   "cell_type": "code",
   "execution_count": 45,
   "id": "4b621949-3b26-4019-9c0d-b5bebc67a9a0",
   "metadata": {},
   "outputs": [
    {
     "data": {
      "text/plain": [
       "tensor(2.2286, device='cuda:0')"
      ]
     },
     "execution_count": 45,
     "metadata": {},
     "output_type": "execute_result"
    }
   ],
   "source": [
    "MMD(W[~mask_nan][:,0,:], W_out[~mask_nan][:,0,:], kernel=\"multiscale\", device=device, dtype=torch.float32)"
   ]
  },
  {
   "cell_type": "code",
   "execution_count": 46,
   "id": "5febae87-7006-4bc4-b473-42eb10948097",
   "metadata": {},
   "outputs": [
    {
     "data": {
      "text/plain": [
       "tensor(2.2416, device='cuda:0')"
      ]
     },
     "execution_count": 46,
     "metadata": {},
     "output_type": "execute_result"
    }
   ],
   "source": [
    "MMD(W[~mask_nan][:,1,:], W_out[~mask_nan][:,1,:], kernel=\"multiscale\", device=device, dtype=torch.float32)"
   ]
  },
  {
   "cell_type": "code",
   "execution_count": 63,
   "id": "5927f600-f4d3-4ae2-8ba3-96c7e562dcf0",
   "metadata": {},
   "outputs": [],
   "source": [
    "def train_withMMD(model, device, loader, val_loader,  optimizer, criterion, epochs, experiment=None):\n",
    "    model.train()\n",
    "    for epoch in range(epochs):\n",
    "        model.train()\n",
    "        for batch_idx, (jets, lepton, met, full_mask, nu, W) in enumerate(loader):\n",
    "            \n",
    "            optimizer.zero_grad()\n",
    "            W_out = model(jets, lepton, met, full_mask)\n",
    "            mask_nan = torch.isnan(W_out).any(axis=(1,2))\n",
    "            MMD_loss_1 = MMD(W[~mask_nan][:,0,:], W_out[~mask_nan][:,0,:], kernel=\"multiscale\", device=device, dtype=torch.float32)\n",
    "            MMD_loss_2 = MMD(W[~mask_nan][:,1,:], W_out[~mask_nan][:,1,:], kernel=\"multiscale\", device=device, dtype=torch.float32)\n",
    "            loss_huber = criterion(W_out, W).nanmean()\n",
    "            loss =  loss_huber +  MMD_loss_1 + MMD_loss_2\n",
    "            \n",
    "            \n",
    "            if batch_idx % 100 == 0:\n",
    "                print(f\"epoch {epoch}, step {batch_idx}, Loss: {loss.item():.4f}, loss regr: {loss_huber.item():.4f},  MMD W1: {MMD_loss_1.item():.4f}, MMD W2: {MMD_loss_2.item():.4f} \")\n",
    "                if exp:\n",
    "                   experiment.log_metric(\"train_loss_step\", loss.item(), step=batch_idx)\n",
    "                    \n",
    "            loss.backward()\n",
    "            optimizer.step()\n",
    "        # Log metrics\n",
    "        if experiment:\n",
    "            experiment.log_metric(\"train_loss_epoch\", loss.item(), step=epoch)\n",
    "        \n",
    "        # Validation loss\n",
    "        model.eval()\n",
    "        val_loss = 0.  \n",
    "        val_loss_huber = 0.\n",
    "        val_loss_mmd_w1 = 0.\n",
    "        val_loss_mmd_w2 = 0.\n",
    "        \n",
    "        with torch.no_grad():\n",
    "            for jets_val, lepton_val, met_val ,full_mask_val, nu_val, W_val in val_loader:\n",
    "                W_out_val = model(jets_val, lepton_val, met_val,full_mask_val)\n",
    "                loss = criterion(W_out_val, W_val)\n",
    "\n",
    "                mask_nan_val = torch.isnan(W_out_val).any(axis=(1,2))\n",
    "                MMD_loss_1_val = MMD(W_val[~mask_nan_val][:,0,:], W_out_val[~mask_nan_val][:,0,:], kernel=\"multiscale\", device=device, dtype=torch.float32)\n",
    "                MMD_loss_2_val = MMD(W_val[~mask_nan_val][:,1,:], W_out_val[~mask_nan_val][:,1,:], kernel=\"multiscale\", device=device, dtype=torch.float32)\n",
    "                \n",
    "                loss_huber_val = criterion(W_out_val, W_val).nanmean()\n",
    "                val_loss += (loss_huber_val +  MMD_loss_1_val + MMD_loss_1_val).item()\n",
    "                val_loss_huber += loss_huber_val.item()\n",
    "                val_loss_mmd_w1 += MMD_loss_1_val.item()\n",
    "                val_loss_mmd_w2 += MMD_loss_2_val.item()\n",
    "                \n",
    "            val_loss = val_loss / len(val_loader)\n",
    "            val_loss_huber = val_loss_huber / len(val_loader)\n",
    "            val_loss_mmd_w1 = val_loss_mmd_w1 / len(val_loader)\n",
    "            val_loss_mmd_w2 = val_loss_mmd_w2 / len(val_loader)\n",
    "            \n",
    "            if experiment:\n",
    "                experiment.log_metric(\"val_loss_epoch\", val_loss.item(), step=epoch)\n",
    "            print(f\"epoch {epoch}, Validation Loss: {val_loss:.4f}, loss regr: {val_loss_huber:.4f},  MMD W1: {val_loss_mmd_w1:.4f}, MMD W2: {val_loss_mmd_w2:.4f} \")\n",
    "\n",
    "            #print for one batch\n",
    "            validation_plots(W_val, W_out_val)\n",
    "        print(f\"End of epoch {epoch}\")\n",
    "    return model"
   ]
  },
  {
   "cell_type": "code",
   "execution_count": null,
   "id": "2ce35535-b684-4341-bdd7-c75c2d91550d",
   "metadata": {},
   "outputs": [],
   "source": [
    "num_epochs = 5\n",
    "\n",
    "device = torch.device(\"cuda\" if torch.cuda.is_available() else \"cpu\")\n",
    "\n",
    "d_model = 32\n",
    "nhead = 4\n",
    "num_encoder_layers = 2\n",
    "num_decoder_layers = 2\n",
    "learning_rate = 1e-4\n",
    "\n",
    "model = WWRegressorComplete(d_model, nhead, num_encoder_layers, num_decoder_layers,\n",
    "                   regression_net=[16])\n",
    "model.to(device)\n",
    "\n",
    "print(f\"Model with {count_parameters(model)} parameters\")\n",
    "\n",
    "optimizer = torch.optim.RAdam(model.parameters(), lr=learning_rate)\n",
    "criterion = torch.nn.HuberLoss(delta=2., reduction='none')\n",
    "\n",
    "# Create Comet.ml experiment\n",
    "# exp = Experiment(\n",
    "#              api_key=comet_token,\n",
    "#              project_name=\"PhDCourse\",\n",
    "#              workspace=\"valsdav\",\n",
    "#              auto_output_logging = \"simple\",\n",
    "#              # disabled=True\n",
    "#          )\n",
    "# exp.log_parameters({\"model_param_tot\": count_parameters(model)})\n",
    "\n",
    "#exp.display(tab='panels')\n",
    "exp = None\n",
    "\n",
    "trained_model = train_withMMD(model, device, dataloader_train, dataloader_val, optimizer, criterion, num_epochs)"
   ]
  },
  {
   "cell_type": "code",
   "execution_count": null,
   "id": "16c7babb-6b99-4771-bc12-ad23705bbe74",
   "metadata": {},
   "outputs": [],
   "source": []
  }
 ],
 "metadata": {
  "kernelspec": {
   "display_name": "myenv",
   "language": "python",
   "name": "myenv"
  },
  "language_info": {
   "codemirror_mode": {
    "name": "ipython",
    "version": 3
   },
   "file_extension": ".py",
   "mimetype": "text/x-python",
   "name": "python",
   "nbconvert_exporter": "python",
   "pygments_lexer": "ipython3",
   "version": "3.11.0rc1"
  }
 },
 "nbformat": 4,
 "nbformat_minor": 5
}
